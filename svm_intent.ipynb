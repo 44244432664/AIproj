{
  "nbformat": 4,
  "nbformat_minor": 0,
  "metadata": {
    "colab": {
      "provenance": [],
      "authorship_tag": "ABX9TyNIHcqE2g2TlFMJSjBCcLUj",
      "include_colab_link": true
    },
    "kernelspec": {
      "name": "python3",
      "display_name": "Python 3"
    },
    "language_info": {
      "name": "python"
    }
  },
  "cells": [
    {
      "cell_type": "markdown",
      "metadata": {
        "id": "view-in-github",
        "colab_type": "text"
      },
      "source": [
        "<a href=\"https://colab.research.google.com/github/44244432664/AIproj/blob/main/svm_intent.ipynb\" target=\"_parent\"><img src=\"https://colab.research.google.com/assets/colab-badge.svg\" alt=\"Open In Colab\"/></a>"
      ]
    },
    {
      "cell_type": "code",
      "source": [
        "!pip install vncorenlp"
      ],
      "metadata": {
        "id": "59LQsSxlCz0E",
        "colab": {
          "base_uri": "https://localhost:8080/"
        },
        "outputId": "1809cb20-dc47-4b18-8c60-30055f34608f"
      },
      "execution_count": null,
      "outputs": [
        {
          "output_type": "stream",
          "name": "stdout",
          "text": [
            "Collecting vncorenlp\n",
            "  Downloading vncorenlp-1.0.3.tar.gz (2.6 MB)\n",
            "\u001b[?25l     \u001b[90m━━━━━━━━━━━━━━━━━━━━━━━━━━━━━━━━━━━━━━━━\u001b[0m \u001b[32m0.0/2.6 MB\u001b[0m \u001b[31m?\u001b[0m eta \u001b[36m-:--:--\u001b[0m\r\u001b[2K     \u001b[91m━━━\u001b[0m\u001b[90m╺\u001b[0m\u001b[90m━━━━━━━━━━━━━━━━━━━━━━━━━━━━━━━━━━━━\u001b[0m \u001b[32m0.2/2.6 MB\u001b[0m \u001b[31m6.6 MB/s\u001b[0m eta \u001b[36m0:00:01\u001b[0m\r\u001b[2K     \u001b[91m━━━━━━━━━━━━━━━━━━━━━━\u001b[0m\u001b[91m╸\u001b[0m\u001b[90m━━━━━━━━━━━━━━━━━\u001b[0m \u001b[32m1.5/2.6 MB\u001b[0m \u001b[31m21.8 MB/s\u001b[0m eta \u001b[36m0:00:01\u001b[0m\r\u001b[2K     \u001b[90m━━━━━━━━━━━━━━━━━━━━━━━━━━━━━━━━━━━━━━━━\u001b[0m \u001b[32m2.6/2.6 MB\u001b[0m \u001b[31m25.8 MB/s\u001b[0m eta \u001b[36m0:00:00\u001b[0m\n",
            "\u001b[?25h  Preparing metadata (setup.py) ... \u001b[?25l\u001b[?25hdone\n",
            "Requirement already satisfied: requests in /usr/local/lib/python3.10/dist-packages (from vncorenlp) (2.27.1)\n",
            "Requirement already satisfied: urllib3<1.27,>=1.21.1 in /usr/local/lib/python3.10/dist-packages (from requests->vncorenlp) (1.26.16)\n",
            "Requirement already satisfied: certifi>=2017.4.17 in /usr/local/lib/python3.10/dist-packages (from requests->vncorenlp) (2023.5.7)\n",
            "Requirement already satisfied: charset-normalizer~=2.0.0 in /usr/local/lib/python3.10/dist-packages (from requests->vncorenlp) (2.0.12)\n",
            "Requirement already satisfied: idna<4,>=2.5 in /usr/local/lib/python3.10/dist-packages (from requests->vncorenlp) (3.4)\n",
            "Building wheels for collected packages: vncorenlp\n",
            "  Building wheel for vncorenlp (setup.py) ... \u001b[?25l\u001b[?25hdone\n",
            "  Created wheel for vncorenlp: filename=vncorenlp-1.0.3-py3-none-any.whl size=2645933 sha256=d6f2c98bac3d644e772b3d22e6e89ae82adc733d564d18cab6a9a2a9c5c2c792\n",
            "  Stored in directory: /root/.cache/pip/wheels/5d/d9/b3/41f6c6b1ab758561fd4aab55dc0480b9d7a131c6aaa573a3fa\n",
            "Successfully built vncorenlp\n",
            "Installing collected packages: vncorenlp\n",
            "Successfully installed vncorenlp-1.0.3\n"
          ]
        }
      ]
    },
    {
      "cell_type": "code",
      "execution_count": null,
      "metadata": {
        "id": "61LEODRSQCe1",
        "colab": {
          "base_uri": "https://localhost:8080/"
        },
        "outputId": "dc8ea890-0b3a-4288-c2a2-eaf460d5becf"
      },
      "outputs": [
        {
          "output_type": "stream",
          "name": "stderr",
          "text": [
            "[nltk_data] Downloading package stopwords to /root/nltk_data...\n",
            "[nltk_data]   Unzipping corpora/stopwords.zip.\n"
          ]
        }
      ],
      "source": [
        "import os\n",
        "import pandas as pd\n",
        "import numpy as np\n",
        "import matplotlib.pyplot as plt\n",
        "# import json\n",
        "import csv\n",
        "from sklearn import svm\n",
        "from sklearn.feature_extraction.text import TfidfVectorizer\n",
        "import nltk\n",
        "from nltk.corpus import stopwords\n",
        "from nltk.stem import WordNetLemmatizer\n",
        "\n",
        "lemmatizer = WordNetLemmatizer()\n",
        "nltk.download('stopwords')\n",
        "\n",
        "from nltk.stem import PorterStemmer\n",
        "ps = PorterStemmer()\n",
        "\n",
        "from vncorenlp import VnCoreNLP"
      ]
    },
    {
      "cell_type": "code",
      "source": [
        "def read_csv(filename):\n",
        "    phrase = []\n",
        "    issue = []\n",
        "\n",
        "    with open (filename) as csvDataFile:\n",
        "        csvReader = csv.reader(csvDataFile)\n",
        "\n",
        "        for row in csvReader:\n",
        "            phrase.append(row[0])\n",
        "            issue.append(row[1])\n",
        "\n",
        "    X = np.asarray(phrase)\n",
        "#     X = phrase\n",
        "    Y = np.asarray(issue, dtype=int)\n",
        "\n",
        "    # print(f'X: {type(X)}')\n",
        "    # print(f'Y: {type(Y)}')\n",
        "\n",
        "    return X, Y\n",
        "\n",
        "X, Y = read_csv('dataset.csv')\n",
        "print(X)\n",
        "print(Y)\n",
        "\n",
        "def stat(Y):\n",
        "  a=0\n",
        "  b=0\n",
        "  c=0\n",
        "  for e in Y:\n",
        "    if e==0:\n",
        "      a+=1\n",
        "    if e==1:\n",
        "      b+=1\n",
        "    if e==2:\n",
        "      c+=1\n",
        "  return a, b, c\n",
        "\n",
        "a, b, c = stat(Y)\n",
        "print(a, b, c)"
      ],
      "metadata": {
        "id": "NnEHO8tZQJa5",
        "colab": {
          "base_uri": "https://localhost:8080/"
        },
        "outputId": "9325e341-38db-444c-ada0-1f5b7215aad1"
      },
      "execution_count": null,
      "outputs": [
        {
          "output_type": "stream",
          "name": "stdout",
          "text": [
            "['I APPLIED FOR A CREDIT CARD LAST MONTH BUT I DID NOT GET THAT ONE TILL NOW . ALTHOUGH I FULLFILL ALL THE CRITERIA REQUIRED FOR APPLYING CREDIT CARD .'\n",
            " 'I OPENED A NEW ACCOUNT IN YOUR BANK BUT WHEN I GOT MY PASSBOOK I FOUND THAT MY MIDDLE NAME IS WRONGLY PRINTED ON IT .'\n",
            " 'I APPLIED FOR DEBIT OR CREDIT CARD WHEN I OPENED MY ACCOUNT IN YOUR BANK LAST MONTH BUT I DID NOT GET ANY TILL NOW .'\n",
            " 'TILL NOW I DID NOT GET ANY DEBIT OR CREDIT CARD WHICH I APPLIED LAST MONTH IN YOUR BANK .'\n",
            " 'I GAVE AN APPLICATION FOR LINKING UNIQUE NUMBER WITH MY BANK ACCOUNT LAST MONTH BUT TILL NOW IT IS NOT UPDATED .'\n",
            " 'I WANT TO CHANGE THE MOBILE NUMBER THAT WAS PREVIOUSLY LINKED WITH MY ACCOUNT AND WANT TO ADD MY NEW NUMBER .'\n",
            " 'I LOST MY DEBIT OR CREDIT CARD YESTERDAY . SO I WANT TO BLOCK MY DEBIT OR CREDIT  CARD . THE RELATED INFORMATION IS GIVEN BELOW .'\n",
            " 'PLEASE BLOCK MY DEBIT OR CREDIT CARD BECAUSE I LOST MY DEBIT OR CREDIT CARD YESTERDAY . ALL THE RELATED INFORMATION IS GIVEN BELOW .'\n",
            " 'I GAVE AN APPLICATION FOR LINKING MY MOBILE NUMBER WITH MY ACCOUNT LAST WEEK BUT TILL NOW I DO NOT GET ANY INFORMATION REGARDING THAT .'\n",
            " 'I GAVE AN APPLICATION FOR LINKING MY MOBILE NUMBER WITH MY ACCOUNT LAST MONTH BUT I DID NOT GET ANY SMS RELATED TO MY ACCOUNT ON REGISTERED THE NUMBER .'\n",
            " 'I APPLIED FOR A NEW ACCOUNT IN YOUR BANK BUT WHEN I GOT MY PASSBOOK I FOUND THAT THE NAME OF MY FATHER IS WRONGLY PRINTED ON IT .'\n",
            " 'I AM NOT ABLE TO MAKE PAYMENT THROUGH MY DEBIT OR CREDIT CARD . AN ERROR MESSAGE WAS SHOWN THAT \" THIS CARD IS NOT RECOGNISED \" .'\n",
            " 'DURING PAYMENT THROUGH DEBIT CARD IT SHOWS PAYMENT FAILURE . AN ERROR MESSAGE WAS SHOWN THAT \" THIS CARD IS NOT RECOGNISED \" .'\n",
            " 'I APPLIED FOR A NEW ACCOUNT IN YOUR BANK BUT WHEN I GOT MY PASSBOOK I FOUND THAT MY DATE OF BIRTH IS WRONGLY PRINTED ON  THE PASSBOOK .'\n",
            " 'I WANT TO ADD MY PAN CARD NUMBER TO MY ACCOUNT SO THAT I CAN MAKE LARGE TRANSACTION BY USING IT .'\n",
            " 'I MAKE A PAYMENT THROUGH MY DEBIT CARD AT A SHOPPING MALL  . THE PAYMENT STATUS SHOWS FAILURE OF PAYMENT BUT BALANCE IS DEDUCED FROM MY ACCOUNT .'\n",
            " 'THE PAYMENT IS NOT COMPLETED BUT BALANCE IS DEDUCED FROM MY ACCOUNT WHEN I MAKE A PAYMENT AT A SHOPPING MALL .'\n",
            " 'I GAVE AN APPLICATION FOR UPDATING MY PERSONAL DETAILS ON MY ACCOUNT BUT IT IS NOT DONE TILL NOW . I ALSO ATTACHED THE NECESSARY DOCUMENTS WITH THE APPLICATION .'\n",
            " 'I APPLIED FOR OPENING A JOINT ACCOUNT WITH MY MOTHER LAST MONTH BUT WHEN I GOT MY ACCOUNT DETAIL I FOUND THAT IT IS A PERSONAL ACCOUNT .'\n",
            " 'I APPLIED FOR OPENING A PERSONAL ACCOUNT LAST MONTH BUT WHEN I GOT MY ACCOUNT DETAIL I FOUND THAT IT IS A JOINT ACCOUNT WITH MY FATHER .'\n",
            " 'I GAVE AN APPLICATION FOR CLOSING MY ACCOUNT ON YOUR BANK LAST WEEK . I ALSO MENTIONED THE VALID REASON FOR CLOSING THE ACCOUNT INSTEAD IT IS NOT DONE TILL NOW .'\n",
            " 'I APPLIED FOR INTERNET BANKING ACTIVATION ON MY ACCOUNT LAST WEEK BUT TILL NOW I DO NOT GET ANY INFORMATION REGARDING THAT . I PROVIDED ALL THE REQUIRED INFORMATION WITH MY APPLICATION FORM .'\n",
            " 'I FORGOT MY INTERNET BANKING PASSWORD AND WANT TO RESET BUT I AM NOT ABLE TO RESET THE PASSWORD .'\n",
            " 'I FORGOT MY INTERNET BANKING USER NAME AND WANT TO RESET IT BUT I WAS UNABLE TO DO THAT .'\n",
            " 'I MAKE TRANSACTION THROUGH DEBIT CARD FOR WITHDRAWING MONEY FROM ATM . THE TRANSACTION IS NOT COMPLETED BUT MONEY IS DEDUCED FROM MY ACCOUNT .'\n",
            " 'I APPLIED FOR INTERNET BANKING ACTIVATION ON MY ACCOUNT  TEN DAY AGO BUT I DO NOT GET MY USER NAME AND PASSWORD TILL NOW .'\n",
            " 'I APPLIED FOR CHANGING MY PERSONAL ACCOUNT TO A JOINT ACCOUNT WITH MY FATHER LAST MONTH BUT TILL NOW IT IS NOT CHANGED .'\n",
            " 'I GAVE AN APPLICATION FOR CORRECTING MY LOCAL ADDRESS OF MY ACCOUNT BUT IT IS NOT CORRECTED TILL YESTERDAY .'\n",
            " 'I USE MY DEBIT CARD FOR WITHDRAWING MONEY FROM MY ACCOUNT . THE TRANSACTION IS NOT COMPLETED DUE TO SOME REASON BUT MONEY IS DEDUCED FROM MY ACCOUNT .'\n",
            " 'I USE MY DEBIT CARD FOR MAKING PAYMENT ON AN ONLINE SITE . MONEY IS DEDUCED FROM MY ACCOUNT BUT PAYMENT STATUS IS SHOWN AS UNSUCCESSFUL .'\n",
            " 'I MADE A TRANSACTION ON AN ONLINE SITE FOR PURCHASING SOMETHING . THE PAYMENT STATUS IS NOT SUCCESSFUL BUT MONEY IS DEDUCED FROM MY ACCOUNT .'\n",
            " 'I WANT TO APPLY FOR EDUCATION LOAN BUT THE UNIQUE NUMBER LINKED TO MY ACCOUNT IS NOT CORRECT . I APPLIED FOR CORRECTING THE UNIQUE NUMBER BUT IT IS NOT CORRECTED YET . I ALSO ATTACHED ONE COPY OF MY CORRECT UNIQUE NUMBER ALONG WITH MY APPLICATION .'\n",
            " 'I GAVE AN APPLICATION FOR LINKING A NEW MOBILE NUMBER TO MY ACCOUNT AS MY OLD LINKED MOBILE NUMBER IS NOT WORKING BUT TILL NOW IT IS NOT DONE . DUE TO THIS I AM FACING MANY PROBLEM .'\n",
            " 'I GAVE AN APPLICATION FOR INCREASING MY DAILY TRANSACTION  LIMITS . I ALSO ATTACHED A COPY OF MY PAN CARD WITH THE APPLICATION FORM BUT IT IS NOT INCREASED TILL NOW . PLEASE DO IT AS SOON AS POSSIBLE .'\n",
            " 'I WANT TO TRANSFER MONEY FROM MY ACCOUNT TO ANOTHER ACCOUNT VIA MY DEBIT CARD BUT NOT ABLE TO COMPLETE THE TRANSFER . IT SHOWS AN ERROR .'\n",
            " 'I WANT TO TRANSFER MONEY FROM MY ACCOUNT TO ANOTHER ACCOUNT VIA MY DEBIT CARD . BUT OTP IS NOT SEND BY BANK TO MY REGISTERED MOBILE NUMBER SO THAT I CAN MAKE THE TRANSACTION .'\n",
            " 'I MADE A TRANSACTION WITH MY DEBIT CARD FOR PURCHASING THINGS FROM A SHOP IN KOLKATA . THE TRANSACTION IS NOT SUCCESSFUL BUT MONEY IS DEDUCED FROM MY ACCOUNT .'\n",
            " 'Transaction  status is settled from my side but was not received on the other end'\n",
            " 'the transaction at one end is settled but there are delays in settlement at the other end'\n",
            " 'Loss in the balance in account due to system failure while online transaction'\n",
            " 'I MADE A TRANSACTION ON IRCTC USING MY DEBIT CARD FOR TICKET BOOKING . BOOKING IS NOT CONFORMED EVEN MONEY IS WITHDRAWN FROM MY ACCOUNT .'\n",
            " 'I APPLIED FOR EMI ON AN ONLINE SHOPPING SITE USING MY CREDIT CARD . EMI IS STARTED ON MY ACCOUNT BUT IT IS NOT SHOWN ON THE SHOPPING SITE .'\n",
            " 'DURING WITHDRAWING MONEY FROM ACCOUNT USING DEBIT CARD FROM A ATM , IT WAS SHOWN THAT THAT THE PIN YOU ENTERED IS INCORRECT ALTHOUGH I ENTERED THE CORRECT PIN .'\n",
            " 'THE ADDRESS MENTIONED ON MY ACCOUNT IS NOT CORRECT . I APPLIED FOR ADDRESS CORRECTION LAST WEEK BUT IT IS NOT CORRECTED TILL TODAY .'\n",
            " 'THE PIN YOU ENTERED IS WRONG MESSAGE WAS SHOWN WHEN I WAS WITHDRAWING MONEY FROM ATM USING DEBIT CARD AND ENTERING THE CORRECT PIN .'\n",
            " 'I WANT TO CHANGE MY DEBIT CARD PIN BUT NOT ABLE TO DO SO AT ANY ATM MACHINE .'\n",
            " 'I AM NOT ABLE TO CHANGE MY DEBIT CARD SECURITY PIN USING ANY ATM MACHINE ALTHOUGH I ENTERED THE CORRECT INFORMATION REQUIRED FOR THAT PROCESS .'\n",
            " 'How do I find out why a payment or refund transaction failed'\n",
            " 'Payment status is approved by it has not been received'\n",
            " 'DURING WITHDRAWING MONEY FROM ATM USING DEBIT , THE TRANSACTION IS FAILED BUT MONEY IS DEDUCED FROM MY ACCOUNT FROM MY ACCOUNT .'\n",
            " 'NOT ABLE TO MAKE ANY ONLINE TRANSACTION BY MY DEBIT CARD ALTHOUGH I ENTERED ALL THE INFORMATION CORRECTLY .'\n",
            " 'I APPLIED FOR UPDATING MY PAN CARD AND UNIQUE CARD NUMBER TO MY ACCOUNT LAST WEEK BUT IT IS NOT UPDATED TILL TODAY . I ALSO ATTACHED A COPY OF THE REQUIRED DOCUMENTS WITH THE APPLICATION FORM .'\n",
            " 'I APPLIED FOR CORRECTING MY NAME ON MY ACCOUNT LAST MONTH BUT TILL TODAY IT IS NOT CORRECTED . DUE TO THIS MY OTHER WORKS ARE PENDING WHERE I HAVE TO USE MY BANK DETAILS .'\n",
            " 'I APPLIED FOR CHECK BOOK LAST MONTH BUT TILL TODAY I DO NOT GET ANY .'\n",
            " 'A CHECK BOOK IS ISSUED ON MY ACCOUNT BUT I DO NOT APPLIED FOR ANY ONE . DUE TO THIS CHARGE FOR ISSUING CHECK BOOK IS DEDUCED FROM MY ACCOUNT .'\n",
            " 'NOT ABLE TO TRANSFER MONEY TO ANOTHER ACCOUNT BY MY DEBIT CARD .'\n",
            " 'I APPLIED FOR THE NEW DEBIT CARD LAST MONTH BUT DID NOT GET ANY TILL NOW ALTHOUGH I PROVIDED ALL THE REQUIRED DOCUMENT AT THE TIME OF APPLYING .'\n",
            " 'I GOT MY NEW DEBIT CARD YESTERDAY BUT I AM NOT ABLE TO GENERATE MY SECURITY PIN AT ANY ATM .'\n",
            " 'My account shows the money has been debited but it has not been paid at the site .'\n",
            " 'My payment could not be processed , though I have sufficient balance in my account .'\n",
            " 'Whenever I go for payment , there is authentication failure .'\n",
            " 'There was a payment gateway failure and money has been debited .'\n",
            " 'When will the money be credited again ?'\n",
            " 'Payment denied due to insufficient fund message , though I have sufficient balance .'\n",
            " 'I OPENED A NEW ACCOUNT IN YOUR BANK BUT WHEN I GOT MY PASSBOOK I FOUND THAT MY MIDDLE NAME IS WRONGLY PRINTED ON IT .'\n",
            " 'I APPLIED FOR DEBIT OR CREDIT CARD WHEN I OPENED MY ACCOUNT IN YOUR BANK LAST MONTH BUT I DID NOT GET ANY TILL NOW .'\n",
            " 'TILL NOW I DID NOT GET ANY DEBIT OR CREDIT CARD WHICH I APPLIED LAST MONTH IN YOUR BANK .'\n",
            " 'I GAVE AN APPLICATION FOR LINKING UNIQUE NUMBER WITH MY BANK ACCOUNT LAST MONTH BUT TILL NOW IT IS NOT UPDATED .'\n",
            " 'Transaction not settled' 'Failed ATM transaction'\n",
            " 'In ATM account gets debited without actual disbursal of cash'\n",
            " 'In payment transactions involving intermediaries ,  the payment to was not made to merchants'\n",
            " 'Transaction  status is settled from my side but was not received on the other end'\n",
            " 'the transaction at one end is settled but there are delays in settlement at the other end'\n",
            " 'Loss in the balance in account due to system failure while online transaction'\n",
            " 'There has been cascading failure in my account and the interest has also been calculated on the wrong amount'\n",
            " 'Money has been deducted from my account'\n",
            " 'I AM NOT ABLE TO CHANGE MY DEBIT CARD SECURITY PIN USING ANY ATM MACHINE ALTHOUGH I ENTERED THE CORRECT INFORMATION REQUIRED FOR THAT PROCESS .'\n",
            " 'DURING WITHDRAWING MONEY FROM ATM USING DEBIT , THE TRANSACTION IS FAILED BUT MONEY IS DEDUCED FROM MY ACCOUNT FROM MY ACCOUNT .'\n",
            " 'NOT ABLE TO MAKE ANY ONLINE TRANSACTION BY MY DEBIT CARD ALTHOUGH I ENTERED ALL THE INFORMATION CORRECTLY .'\n",
            " 'I APPLIED FOR UPDATING MY PAN CARD AND UNIQUE CARD NUMBER TO MY ACCOUNT LAST WEEK BUT IT IS NOT UPDATED TILL TODAY . I ALSO ATTACHED A COPY OF THE REQUIRED DOCUMENTS WITH THE APPLICATION FORM .'\n",
            " 'I APPLIED FOR CORRECTING MY NAME ON MY ACCOUNT LAST MONTH BUT TILL TODAY IT IS NOT CORRECTED . DUE TO THIS MY OTHER WORKS ARE PENDING WHERE I HAVE TO USE MY BANK DETAILS .'\n",
            " 'Inquire into the deduction of money from my account during failed online transaction / payment'\n",
            " 'Bank account status reveals deducted amount during payment'\n",
            " 'withdrew some money from ATM , but I have not collected money because some mechanical problem . But , the amount is detected from my account .'\n",
            " 'complaint regarding transaction failure'\n",
            " 'Money not refunded even after 3 - 7 days of transaction failure'\n",
            " 'Online bill payment transaction failed'\n",
            " 'Tell the exact status of my account as the transaction has failed'\n",
            " 'Digital payment has gone wrong due to poor internet connection'\n",
            " 'Unsuccessful debit card payment'\n",
            " 'Payment declined by bank , error message while online payment'\n",
            " 'Card payment of this size is not allowed'\n",
            " 'Failed transaction refund claim' 'POS failure refund'\n",
            " 'Sorry Your payment failed' 'What is the cause of my failed transaction'\n",
            " 'Why my refund transaction failed'\n",
            " 'How do I find out why a payment or refund transaction failed'\n",
            " 'Payment status is approved by it has not been received']\n",
            "[0 1 0 0 1 1 0 0 1 1 1 0 0 1 1 0 0 1 1 1 1 1 1 1 0 1 1 1 0 0 0 1 1 1 0 0 0\n",
            " 2 2 2 0 0 0 1 0 0 0 2 2 0 0 1 1 1 1 0 0 0 2 2 2 2 2 2 1 0 0 1 2 2 2 2 2 2\n",
            " 2 2 2 0 0 0 1 1 2 2 2 2 2 2 2 2 2 2 2 2 2 2 2 2 2 2]\n",
            "32 30 38\n"
          ]
        }
      ]
    },
    {
      "cell_type": "code",
      "source": [
        "# text.lower() to change string to lowercase"
      ],
      "metadata": {
        "id": "bw3b-NcbQ71z"
      },
      "execution_count": null,
      "outputs": []
    },
    {
      "cell_type": "code",
      "source": [
        "def tokenize(string):\n",
        "    return string.split(' ')"
      ],
      "metadata": {
        "id": "AmxMbHEyRuUm"
      },
      "execution_count": null,
      "outputs": []
    },
    {
      "cell_type": "code",
      "source": [
        "def unique_word(set_corpus):\n",
        "    return (lambda prv, cur: set(prv).union(set(cur)), set_corpus, [])"
      ],
      "metadata": {
        "id": "Cf_G9bEoRwAY"
      },
      "execution_count": null,
      "outputs": []
    },
    {
      "cell_type": "code",
      "source": [
        "X_train, Y_train = read_csv('train.csv')\n",
        "# print(X_train.shape)\n",
        "X_test, Y_test = read_csv('test.csv')\n",
        "# nltk.download('stopwords')\n",
        "# stop_words = set(stopwords.words('english'))\n",
        "# maxLen = len(max(X_train, key=len).split())\n",
        "# index = 1\n",
        "# for i in range(len(X_train)):\n",
        "#   #  X_train[i] = X_train[i].lower()\n",
        "#   # print(X_train[i])\n",
        "#   word_tokens = tokenize(X_train[i].lower())\n",
        "#   no_sw = [w for w in word_tokens if not w in stop_words]\n",
        "#   stem = [ps.stem(w) for w in no_sw]\n",
        "#   filtered_sentence = (\" \").join(stem)\n",
        "#   X_train[i] = filtered_sentence\n",
        "#   # print(filtered_sentence)\n",
        "\n",
        "# for i in range(len(X_test)):\n",
        "#   #  X_test[i] = X_test[i].lower()\n",
        "#   # print(X_test[i])\n",
        "#   word_tokens = tokenize(X_test[i].lower())\n",
        "#   no_sw = [w for w in word_tokens if not w in stop_words]\n",
        "#   stem = [ps.stem(w) for w in no_sw]\n",
        "#   filtered_sentence = (\" \").join(stem)\n",
        "#   X_test[i] = filtered_sentence\n",
        "#   # print(filtered_sentence)\n",
        "\n",
        "# print(X_train[index], '/', Y_train[index])\n",
        "# print(X_test[index], '/', Y_test[index])\n",
        "# # print(maxLen)\n",
        "a_train, b_train, c_train = stat(Y_train)\n",
        "a_test, b_test, c_test = stat(Y_test)\n",
        "\n",
        "print(f'train: {a_train} 0 label, {b_train} 1 label, {c_train} 2 label')\n",
        "print(f'test: {a_test} 0 label, {b_test} 1 label, {c_test} 2 label')\n",
        "print(X_train)"
      ],
      "metadata": {
        "id": "z8mhCk17RxpU",
        "colab": {
          "base_uri": "https://localhost:8080/"
        },
        "outputId": "d6fc64f4-93f6-4a75-f95a-dd65515690ad"
      },
      "execution_count": null,
      "outputs": [
        {
          "output_type": "stream",
          "name": "stdout",
          "text": [
            "train: 22 0 label, 25 1 label, 28 2 label\n",
            "test: 11 0 label, 6 1 label, 8 2 label\n",
            "['I APPLIED FOR A CREDIT CARD LAST MONTH BUT I DID NOT GET THAT ONE TILL NOW . ALTHOUGH I FULLFILL ALL THE CRITERIA REQUIRED FOR APPLYING CREDIT CARD .'\n",
            " 'I OPENED A NEW ACCOUNT IN YOUR BANK BUT WHEN I GOT MY PASSBOOK I FOUND THAT MY MIDDLE NAME IS WRONGLY PRINTED ON IT .'\n",
            " 'I APPLIED FOR DEBIT OR CREDIT CARD WHEN I OPENED MY ACCOUNT IN YOUR BANK LAST MONTH BUT I DID NOT GET ANY TILL NOW .'\n",
            " 'TILL NOW I DID NOT GET ANY DEBIT OR CREDIT CARD WHICH I APPLIED LAST MONTH IN YOUR BANK .'\n",
            " 'I GAVE AN APPLICATION FOR LINKING UNIQUE NUMBER WITH MY BANK ACCOUNT LAST MONTH BUT TILL NOW IT IS NOT UPDATED .'\n",
            " 'I WANT TO CHANGE THE MOBILE NUMBER THAT WAS PREVIOUSLY LINKED WITH MY ACCOUNT AND WANT TO ADD MY NEW NUMBER .'\n",
            " 'I LOST MY DEBIT OR CREDIT CARD YESTERDAY . SO I WANT TO BLOCK MY DEBIT OR CREDIT  CARD . THE RELATED INFORMATION IS GIVEN BELOW .'\n",
            " 'PLEASE BLOCK MY DEBIT OR CREDIT CARD BECAUSE I LOST MY DEBIT OR CREDIT CARD YESTERDAY . ALL THE RELATED INFORMATION IS GIVEN BELOW .'\n",
            " 'I GAVE AN APPLICATION FOR LINKING MY MOBILE NUMBER WITH MY ACCOUNT LAST MONTH BUT I DID NOT GET ANY SMS RELATED TO MY ACCOUNT ON REGISTERED THE NUMBER .'\n",
            " 'Transaction  status is settled from my side but was not received on the other end'\n",
            " 'the transaction at one end is settled but there are delays in settlement at the other end'\n",
            " 'Loss in the balance in account due to system failure while online transaction'\n",
            " 'There has been cascading failure in my account and the interest has also been calculated on the wrong amount'\n",
            " 'Money has been deducted from my account'\n",
            " 'Inquire into the deduction of money from my account during failed online transaction / payment'\n",
            " 'Bank account status reveals deducted amount during payment'\n",
            " 'withdrew some money from ATM , but I have not collected money because some mechanical problem . But , the amount is detected from my account .'\n",
            " 'complaint regarding transaction failure'\n",
            " 'Money not refunded even after 3 - 7 days of transaction failure'\n",
            " 'I APPLIED FOR A NEW ACCOUNT IN YOUR BANK BUT WHEN I GOT MY PASSBOOK I FOUND THAT THE NAME OF MY FATHER IS WRONGLY PRINTED ON IT .'\n",
            " 'I AM NOT ABLE TO MAKE PAYMENT THROUGH MY DEBIT OR CREDIT CARD . AN ERROR MESSAGE WAS SHOWN THAT \" THIS CARD IS NOT RECOGNISED \" .'\n",
            " 'DURING PAYMENT THROUGH DEBIT CARD IT SHOWS PAYMENT FAILURE . AN ERROR MESSAGE WAS SHOWN THAT \" THIS CARD IS NOT RECOGNISED \" .'\n",
            " 'I APPLIED FOR A NEW ACCOUNT IN YOUR BANK BUT WHEN I GOT MY PASSBOOK I FOUND THAT MY DATE OF BIRTH IS WRONGLY PRINTED ON  THE PASSBOOK .'\n",
            " 'Online bill payment transaction failed'\n",
            " 'I WANT TO APPLY FOR EDUCATION LOAN BUT THE UNIQUE NUMBER LINKED TO MY ACCOUNT IS NOT CORRECT . I APPLIED FOR CORRECTING THE UNIQUE NUMBER BUT IT IS NOT CORRECTED YET . I ALSO ATTACHED ONE COPY OF MY CORRECT UNIQUE NUMBER ALONG WITH MY APPLICATION .'\n",
            " 'I GAVE AN APPLICATION FOR LINKING A NEW MOBILE NUMBER TO MY ACCOUNT AS MY OLD LINKED MOBILE NUMBER IS NOT WORKING BUT TILL NOW IT IS NOT DONE . DUE TO THIS I AM FACING MANY PROBLEM .'\n",
            " 'I GAVE AN APPLICATION FOR INCREASING MY DAILY TRANSACTION  LIMITS . I ALSO ATTACHED A COPY OF MY PAN CARD WITH THE APPLICATION FORM BUT IT IS NOT INCREASED TILL NOW . PLEASE DO IT AS SOON AS POSSIBLE .'\n",
            " 'I WANT TO TRANSFER MONEY FROM MY ACCOUNT TO ANOTHER ACCOUNT VIA MY DEBIT CARD BUT NOT ABLE TO COMPLETE THE TRANSFER . IT SHOWS AN ERROR .'\n",
            " 'I WANT TO TRANSFER MONEY FROM MY ACCOUNT TO ANOTHER ACCOUNT VIA MY DEBIT CARD . BUT OTP IS NOT SEND BY BANK TO MY REGISTERED MOBILE NUMBER SO THAT I CAN MAKE THE TRANSACTION .'\n",
            " 'I MADE A TRANSACTION WITH MY DEBIT CARD FOR PURCHASING THINGS FROM A SHOP IN KOLKATA . THE TRANSACTION IS NOT SUCCESSFUL BUT MONEY IS DEDUCED FROM MY ACCOUNT .'\n",
            " 'Transaction  status is settled from my side but was not received on the other end'\n",
            " 'the transaction at one end is settled but there are delays in settlement at the other end'\n",
            " 'Loss in the balance in account due to system failure while online transaction'\n",
            " 'Tell the exact status of my account as the transaction has failed'\n",
            " 'Digital payment has gone wrong due to poor internet connection'\n",
            " 'I WANT TO ADD MY PAN CARD NUMBER TO MY ACCOUNT SO THAT I CAN MAKE LARGE TRANSACTION BY USING IT .'\n",
            " 'I MAKE A PAYMENT THROUGH MY DEBIT CARD AT A SHOPPING MALL  . THE PAYMENT STATUS SHOWS FAILURE OF PAYMENT BUT BALANCE IS DEDUCED FROM MY ACCOUNT .'\n",
            " 'THE PAYMENT IS NOT COMPLETED BUT BALANCE IS DEDUCED FROM MY ACCOUNT WHEN I MAKE A PAYMENT AT A SHOPPING MALL .'\n",
            " 'I GAVE AN APPLICATION FOR UPDATING MY PERSONAL DETAILS ON MY ACCOUNT BUT IT IS NOT DONE TILL NOW . I ALSO ATTACHED THE NECESSARY DOCUMENTS WITH THE APPLICATION .'\n",
            " 'I APPLIED FOR OPENING A JOINT ACCOUNT WITH MY MOTHER LAST MONTH BUT WHEN I GOT MY ACCOUNT DETAIL I FOUND THAT IT IS A PERSONAL ACCOUNT .'\n",
            " 'I APPLIED FOR OPENING A PERSONAL ACCOUNT LAST MONTH BUT WHEN I GOT MY ACCOUNT DETAIL I FOUND THAT IT IS A JOINT ACCOUNT WITH MY FATHER .'\n",
            " 'I GAVE AN APPLICATION FOR CLOSING MY ACCOUNT ON YOUR BANK LAST WEEK . I ALSO MENTIONED THE VALID REASON FOR CLOSING THE ACCOUNT INSTEAD IT IS NOT DONE TILL NOW .'\n",
            " 'I APPLIED FOR INTERNET BANKING ACTIVATION ON MY ACCOUNT LAST WEEK BUT TILL NOW I DO NOT GET ANY INFORMATION REGARDING THAT . I PROVIDED ALL THE REQUIRED INFORMATION WITH MY APPLICATION FORM .'\n",
            " 'My account shows the money has been debited but it has not been paid at the site .'\n",
            " 'My payment could not be processed , though I have sufficient balance in my account .'\n",
            " 'I AM NOT ABLE TO CHANGE MY DEBIT CARD SECURITY PIN USING ANY ATM MACHINE ALTHOUGH I ENTERED THE CORRECT INFORMATION REQUIRED FOR THAT PROCESS .'\n",
            " 'NOT ABLE TO MAKE ANY ONLINE TRANSACTION BY MY DEBIT CARD ALTHOUGH I ENTERED ALL THE INFORMATION CORRECTLY .'\n",
            " 'I APPLIED FOR UPDATING MY PAN CARD AND UNIQUE CARD NUMBER TO MY ACCOUNT LAST WEEK BUT IT IS NOT UPDATED TILL TODAY . I ALSO ATTACHED A COPY OF THE REQUIRED DOCUMENTS WITH THE APPLICATION FORM .'\n",
            " 'I APPLIED FOR CORRECTING MY NAME ON MY ACCOUNT LAST MONTH BUT TILL TODAY IT IS NOT CORRECTED . DUE TO THIS MY OTHER WORKS ARE PENDING WHERE I HAVE TO USE MY BANK DETAILS .'\n",
            " 'Whenever I go for payment , there is authentication failure .'\n",
            " 'There was a payment gateway failure and money has been debited .'\n",
            " 'When will the money be credited again ?'\n",
            " 'Payment denied due to insufficient fund message , though I have sufficient balance .'\n",
            " 'Transaction not settled' 'Failed ATM transaction'\n",
            " 'In ATM account gets debited without actual disbursal of cash'\n",
            " 'In payment transactions involving intermediaries ,  the payment to was not made to merchants'\n",
            " 'I FORGOT MY INTERNET BANKING PASSWORD AND WANT TO RESET BUT I AM NOT ABLE TO RESET THE PASSWORD .'\n",
            " 'I FORGOT MY INTERNET BANKING USER NAME AND WANT TO RESET IT BUT I WAS UNABLE TO DO THAT .'\n",
            " 'I MAKE TRANSACTION THROUGH DEBIT CARD FOR WITHDRAWING MONEY FROM ATM . THE TRANSACTION IS NOT COMPLETED BUT MONEY IS DEDUCED FROM MY ACCOUNT .'\n",
            " 'I APPLIED FOR INTERNET BANKING ACTIVATION ON MY ACCOUNT  TEN DAY AGO BUT I DO NOT GET MY USER NAME AND PASSWORD TILL NOW .'\n",
            " 'I APPLIED FOR CHANGING MY PERSONAL ACCOUNT TO A JOINT ACCOUNT WITH MY FATHER LAST MONTH BUT TILL NOW IT IS NOT CHANGED .'\n",
            " 'I GAVE AN APPLICATION FOR CORRECTING MY LOCAL ADDRESS OF MY ACCOUNT BUT IT IS NOT CORRECTED TILL YESTERDAY .'\n",
            " 'I USE MY DEBIT CARD FOR WITHDRAWING MONEY FROM MY ACCOUNT . THE TRANSACTION IS NOT COMPLETED DUE TO SOME REASON BUT MONEY IS DEDUCED FROM MY ACCOUNT .'\n",
            " 'I USE MY DEBIT CARD FOR MAKING PAYMENT ON AN ONLINE SITE . MONEY IS DEDUCED FROM MY ACCOUNT BUT PAYMENT STATUS IS SHOWN AS UNSUCCESSFUL .'\n",
            " 'I MADE A TRANSACTION ON AN ONLINE SITE FOR PURCHASING SOMETHING . THE PAYMENT STATUS IS NOT SUCCESSFUL BUT MONEY IS DEDUCED FROM MY ACCOUNT .'\n",
            " 'Unsuccessful debit card payment'\n",
            " 'Card payment of this size is not allowed'\n",
            " 'I WANT TO APPLY FOR EDUCATION LOAN BUT THE UNIQUE NUMBER LINKED TO MY ACCOUNT IS NOT CORRECT . I APPLIED FOR CORRECTING THE UNIQUE NUMBER BUT IT IS NOT CORRECTED YET . I ALSO ATTACHED ONE COPY OF MY CORRECT UNIQUE NUMBER ALONG WITH MY APPLICATION .'\n",
            " 'I GAVE AN APPLICATION FOR LINKING A NEW MOBILE NUMBER TO MY ACCOUNT AS MY OLD LINKED MOBILE NUMBER IS NOT WORKING BUT TILL NOW IT IS NOT DONE . DUE TO THIS I AM FACING MANY PROBLEM .'\n",
            " 'I GAVE AN APPLICATION FOR INCREASING MY DAILY TRANSACTION  LIMITS . I ALSO ATTACHED A COPY OF MY PAN CARD WITH THE APPLICATION FORM BUT IT IS NOT INCREASED TILL NOW . PLEASE DO IT AS SOON AS POSSIBLE .'\n",
            " 'I WANT TO TRANSFER MONEY FROM MY ACCOUNT TO ANOTHER ACCOUNT VIA MY DEBIT CARD BUT NOT ABLE TO COMPLETE THE TRANSFER . IT SHOWS AN ERROR .'\n",
            " 'I WANT TO TRANSFER MONEY FROM MY ACCOUNT TO ANOTHER ACCOUNT VIA MY DEBIT CARD . BUT OTP IS NOT SEND BY BANK TO MY REGISTERED MOBILE NUMBER SO THAT I CAN MAKE THE TRANSACTION .'\n",
            " 'I MADE A TRANSACTION ON IRCTC USING MY DEBIT CARD FOR TICKET BOOKING . BOOKING IS NOT CONFORMED EVEN MONEY IS WITHDRAWN FROM MY ACCOUNT .'\n",
            " 'I APPLIED FOR EMI ON AN ONLINE SHOPPING SITE USING MY CREDIT CARD . EMI IS STARTED ON MY ACCOUNT BUT IT IS NOT SHOWN ON THE SHOPPING SITE .']\n"
          ]
        }
      ]
    },
    {
      "cell_type": "code",
      "source": [],
      "metadata": {
        "id": "sEl761SVosyW"
      },
      "execution_count": null,
      "outputs": []
    },
    {
      "cell_type": "code",
      "source": [
        "# cal TF-IDF\n",
        "def tf_idf(corpus):\n",
        "    vectorizer = TfidfVectorizer(analyzer='word', ngram_range=(1,1))\n",
        "    vec = vectorizer.fit_transform(corpus)\n",
        "    f_name = vectorizer.get_feature_names_out()\n",
        "    dense = vec.todense()\n",
        "    denselist = dense.tolist()\n",
        "    return denselist, f_name\n",
        "\n",
        "\n",
        "dl_train, f_train = tf_idf(X_train)\n",
        "df_train = pd.DataFrame(dl_train, columns=f_train)\n",
        "# print(f'dl_train: {dl_train}\\nf_train: {f_train}\\n len: {len(f_train)}')\n",
        "\n",
        "\n",
        "dl_test, f_test = tf_idf(X_test)\n",
        "df_test = pd.DataFrame(dl_test, columns=f_test)\n",
        "# print(f'dl_test: {dl_test}\\nf_test: {f_test}\\n len: {len(f_test)}')\n",
        "\n",
        "# print(f'f_train - f_test: {np.setdiff1d(f_train, f_test)}\\n len: {len(np.setdiff1d(f_train, f_test))}')\n",
        "\n",
        "max_len = len(f_train)\n",
        "\n",
        "# print(type(f_train))\n",
        "\n",
        "# nltk.download('stopwords')\n",
        "stop_words = set(stopwords.words('english'))\n",
        "\n",
        "# print(X_train.shape[0])\n",
        "\n",
        "def sen_to_vec(X, vocab, max_len):\n",
        "      \"\"\"\n",
        "      Converts an array of sentences (strings) into an array of indices corresponding to words in the sentences.\n",
        "      The output shape should be such that it can be given to `Embedding()` (described in Figure 4).\n",
        "\n",
        "      Arguments:\n",
        "      X -- array of sentences (strings), of shape (m, 1)\n",
        "      vocab -- the list of word (vocab)\n",
        "      max_len -- maximum number of words in a sentence. You can assume every sentence in X is no longer than this.\n",
        "\n",
        "      Returns:\n",
        "      X_vec -- occurrence of word in sentence, of shape (m, max_len)\n",
        "      \"\"\"\n",
        "\n",
        "      m = X.shape[0]        # number of training examples\n",
        "\n",
        "      ### START CODE HERE ###\n",
        "      # Initialize X_indices as a numpy matrix of zeros and the correct shape (≈ 1 line)\n",
        "      X_vec = np.zeros([m, max_len])\n",
        "\n",
        "      for i in range(m):                               # loop over training examples\n",
        "\n",
        "          # Convert the ith training sentence in lower case and split is into words. You should get a list of words.\n",
        "          word_tokens = [w.lower() for w in str(X[i]).split(' ')]\n",
        "          no_sw = [w for w in word_tokens if not w in stop_words]\n",
        "          stem = [ps.stem(w) for w in no_sw]\n",
        "          # filtered_sentence = (\" \").join(stem)\n",
        "          # print(stem)\n",
        "\n",
        "          for j in range(len(stem)):\n",
        "            # print(stem[i])\n",
        "            # for j in range(len(stem[i])):\n",
        "            #   print(stem[i][j])\n",
        "              if stem[j] in vocab:\n",
        "                for k in range(len(vocab)):\n",
        "                  if stem[j] == vocab[k]:\n",
        "                    # print(stem[i])\n",
        "                    X_vec[i][k] += 1.0\n",
        "\n",
        "\n",
        "      ### END CODE HERE ###\n",
        "      return X_vec\n",
        "\n",
        "x_train = sen_to_vec(X_train, f_train, max_len)\n",
        "x_test = sen_to_vec(X_test, f_train, max_len)\n",
        "\n",
        "# print(x_train[0])\n",
        "\n",
        "# print(f)\n",
        "# key_word = []\n",
        "# x_train_mat = []\n",
        "# x_test_mat = []\n"
      ],
      "metadata": {
        "id": "epXscq2qR3To"
      },
      "execution_count": null,
      "outputs": []
    },
    {
      "cell_type": "code",
      "source": [],
      "metadata": {
        "id": "aK7Q8vpUR8vG"
      },
      "execution_count": null,
      "outputs": []
    },
    {
      "cell_type": "code",
      "source": [
        "\n",
        "# X_train, Y_train = read_csv('E:code/python/chatbot/train.csv')\n",
        "# print(f'type(Y_train): {type(Y_train)}')\n",
        "# test, Y_test = read_csv('E:code/python/chatbot/test.csv')\n",
        "# X_train = tf_idf(lines)\n",
        "classifier = svm.SVC(kernel='linear', gamma='auto', C=3)\n",
        "\n",
        "classifier.fit(x_train, Y_train)\n",
        "\n",
        "# X_test = tf_idf(test)\n",
        "\n",
        "acc = classifier.score(x_test, Y_test)\n",
        "print()\n",
        "print(\"Test accuracy = \", acc)\n",
        "\n",
        "# Y_pred = classifier.predict(dl_test)\n",
        "\n"
      ],
      "metadata": {
        "colab": {
          "base_uri": "https://localhost:8080/"
        },
        "id": "6FdIkO4XSDz_",
        "outputId": "24e959fb-c219-4dc6-ea16-d99991f5e73c"
      },
      "execution_count": null,
      "outputs": [
        {
          "output_type": "stream",
          "name": "stdout",
          "text": [
            "\n",
            "Test accuracy =  0.84\n"
          ]
        }
      ]
    },
    {
      "cell_type": "code",
      "source": [
        "# C = 3\n",
        "# y_test_oh = np.eye(C)[Y_test.reshape(-1)]\n",
        "wrong = []\n",
        "X_test_indices = sen_to_vec(x_test, f_train, max_len)\n",
        "pred = classifier.predict(X_test_indices)\n",
        "for i in range(len(x_test)):\n",
        "    x = X_test_indices\n",
        "    num = np.argmax(pred[i])\n",
        "    if(num != Y_test[i]):\n",
        "        wrong.append(num)\n",
        "        print(str(i+1) + '.' )\n",
        "        print('Input: ' + str(X_test[i]))\n",
        "        print('Expected: '+ str(Y_test[i]))\n",
        "        print('Prediction: '+ str(num))\n"
      ],
      "metadata": {
        "colab": {
          "base_uri": "https://localhost:8080/"
        },
        "id": "oKAYpJLCrJcd",
        "outputId": "bb5d507a-c4ec-411e-dc40-7c3cb1ce14ca"
      },
      "execution_count": null,
      "outputs": [
        {
          "output_type": "stream",
          "name": "stdout",
          "text": [
            "2.\n",
            "Input: THE ADDRESS MENTIONED ON MY ACCOUNT IS NOT CORRECT . I APPLIED FOR ADDRESS CORRECTION LAST WEEK BUT IT IS NOT CORRECTED TILL TODAY .\n",
            "Expected: 1\n",
            "Prediction: 0\n",
            "8.\n",
            "Input: Failed transaction refund claim\n",
            "Expected: 2\n",
            "Prediction: 0\n",
            "9.\n",
            "Input: POS failure refund\n",
            "Expected: 2\n",
            "Prediction: 0\n",
            "10.\n",
            "Input: Sorry Your payment failed\n",
            "Expected: 2\n",
            "Prediction: 0\n",
            "11.\n",
            "Input: What is the cause of my failed transaction\n",
            "Expected: 2\n",
            "Prediction: 0\n",
            "12.\n",
            "Input: I APPLIED FOR UPDATING MY PAN CARD AND UNIQUE CARD NUMBER TO MY ACCOUNT LAST WEEK BUT IT IS NOT UPDATED TILL TODAY . I ALSO ATTACHED A COPY OF THE REQUIRED DOCUMENTS WITH THE APPLICATION FORM .\n",
            "Expected: 1\n",
            "Prediction: 0\n",
            "13.\n",
            "Input: I APPLIED FOR CORRECTING MY NAME ON MY ACCOUNT LAST MONTH BUT TILL TODAY IT IS NOT CORRECTED . DUE TO THIS MY OTHER WORKS ARE PENDING WHERE I HAVE TO USE MY BANK DETAILS .\n",
            "Expected: 1\n",
            "Prediction: 0\n",
            "14.\n",
            "Input: I APPLIED FOR CHECK BOOK LAST MONTH BUT TILL TODAY I DO NOT GET ANY .\n",
            "Expected: 1\n",
            "Prediction: 0\n",
            "15.\n",
            "Input: Why my refund transaction failed\n",
            "Expected: 2\n",
            "Prediction: 0\n",
            "16.\n",
            "Input: How do I find out why a payment or refund transaction failed\n",
            "Expected: 2\n",
            "Prediction: 0\n",
            "17.\n",
            "Input: Payment status is approved by it has not been received\n",
            "Expected: 2\n",
            "Prediction: 0\n",
            "18.\n",
            "Input: A CHECK BOOK IS ISSUED ON MY ACCOUNT BUT I DO NOT APPLIED FOR ANY ONE . DUE TO THIS CHARGE FOR ISSUING CHECK BOOK IS DEDUCED FROM MY ACCOUNT .\n",
            "Expected: 1\n",
            "Prediction: 0\n",
            "23.\n",
            "Input: Payment declined by bank , error message while online payment\n",
            "Expected: 2\n",
            "Prediction: 0\n",
            "25.\n",
            "Input: I GAVE AN APPLICATION FOR LINKING MY MOBILE NUMBER WITH MY ACCOUNT LAST WEEK BUT TILL NOW I DO NOT GET ANY INFORMATION REGARDING THAT .\n",
            "Expected: 1\n",
            "Prediction: 0\n",
            "acc of label:\n",
            "0: 1.2727272727272727, 1: 0.0, 2: 0.0\n"
          ]
        }
      ]
    },
    {
      "cell_type": "code",
      "source": [
        "def code_to_str(code):\n",
        "  label_dict = {\"0\": \"card delay\",\n",
        "                    \"1\": \"card info issue\",\n",
        "                    \"2\": \"balance issue\"\n",
        "             }\n",
        "  return label_dict[str(code)]"
      ],
      "metadata": {
        "id": "jJJJdrwygQrd"
      },
      "execution_count": null,
      "outputs": []
    },
    {
      "cell_type": "code",
      "source": [
        "user = np.array([input('> ')])\n",
        "user_i = sen_to_vec(user, f_train, max_len)\n",
        "pred_u = classifier.predict(user_i)\n",
        "print(f'out: {code_to_str(pred_u[0])}')"
      ],
      "metadata": {
        "id": "98Mj0o_AyHHA",
        "colab": {
          "base_uri": "https://localhost:8080/"
        },
        "outputId": "47044d64-069c-418d-e78a-65cfef807a51"
      },
      "execution_count": null,
      "outputs": [
        {
          "output_type": "stream",
          "name": "stdout",
          "text": [
            "> Payment declined by bank , error message while online payment\n",
            "out: balance issue\n"
          ]
        }
      ]
    },
    {
      "cell_type": "code",
      "source": [
        "# 2 how do i know if a transaction has succeeded\n",
        "# 1 how do i correct my information when the phone number is printed wrong in my pass book\n",
        "# 1 I APPLIED FOR CHECK BOOK LAST MONTH BUT TILL TODAY I DO NOT GET ANY .\n",
        "# 0 NOT ABLE TO MAKE ANY ONLINE TRANSACTION BY MY DEBIT CARD ALTHOUGH I ENTERED ALL THE INFORMATION CORRECTLY .\n",
        "# 1 I APPLIED FOR UPDATING MY PAN CARD AND UNIQUE CARD NUMBER TO MY ACCOUNT LAST WEEK BUT IT IS NOT UPDATED TILL TODAY . I ALSO ATTACHED A COPY OF THE REQUIRED DOCUMENTS WITH THE APPLICATION FORM .\n"
      ],
      "metadata": {
        "id": "FMdida7K2M25"
      },
      "execution_count": null,
      "outputs": []
    }
  ]
}